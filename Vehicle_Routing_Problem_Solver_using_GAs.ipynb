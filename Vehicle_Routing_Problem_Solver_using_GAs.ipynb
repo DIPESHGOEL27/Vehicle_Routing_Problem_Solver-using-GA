{
  "nbformat": 4,
  "nbformat_minor": 0,
  "metadata": {
    "colab": {
      "provenance": [],
      "authorship_tag": "ABX9TyOsKDdJdjDAd6QNQkqegvmO",
      "include_colab_link": true
    },
    "kernelspec": {
      "name": "python3",
      "display_name": "Python 3"
    },
    "language_info": {
      "name": "python"
    }
  },
  "cells": [
    {
      "cell_type": "markdown",
      "metadata": {
        "id": "view-in-github",
        "colab_type": "text"
      },
      "source": [
        "<a href=\"https://colab.research.google.com/github/DIPESHGOEL27/Vehicle_Routing_Problem_Solver-using-GA/blob/main/Vehicle_Routing_Problem_Solver_using_GAs.ipynb\" target=\"_parent\"><img src=\"https://colab.research.google.com/assets/colab-badge.svg\" alt=\"Open In Colab\"/></a>"
      ]
    },
    {
      "cell_type": "markdown",
      "source": [
        "Pre-requisite: Installing deap library"
      ],
      "metadata": {
        "id": "LZfDiBNt-eDP"
      }
    },
    {
      "cell_type": "code",
      "source": [
        "!pip install matplotlib deap"
      ],
      "metadata": {
        "colab": {
          "base_uri": "https://localhost:8080/"
        },
        "id": "RtPpttt1-ixB",
        "outputId": "9137591a-dbfb-4437-eddb-0d12723370e7"
      },
      "execution_count": null,
      "outputs": [
        {
          "output_type": "stream",
          "name": "stdout",
          "text": [
            "Requirement already satisfied: matplotlib in /usr/local/lib/python3.10/dist-packages (3.7.1)\n",
            "Collecting deap\n",
            "  Downloading deap-1.4.1-cp310-cp310-manylinux_2_5_x86_64.manylinux1_x86_64.manylinux_2_17_x86_64.manylinux2014_x86_64.whl (135 kB)\n",
            "\u001b[2K     \u001b[90m━━━━━━━━━━━━━━━━━━━━━━━━━━━━━━━━━━━━━━━━\u001b[0m \u001b[32m135.4/135.4 kB\u001b[0m \u001b[31m2.2 MB/s\u001b[0m eta \u001b[36m0:00:00\u001b[0m\n",
            "\u001b[?25hRequirement already satisfied: contourpy>=1.0.1 in /usr/local/lib/python3.10/dist-packages (from matplotlib) (1.2.1)\n",
            "Requirement already satisfied: cycler>=0.10 in /usr/local/lib/python3.10/dist-packages (from matplotlib) (0.12.1)\n",
            "Requirement already satisfied: fonttools>=4.22.0 in /usr/local/lib/python3.10/dist-packages (from matplotlib) (4.51.0)\n",
            "Requirement already satisfied: kiwisolver>=1.0.1 in /usr/local/lib/python3.10/dist-packages (from matplotlib) (1.4.5)\n",
            "Requirement already satisfied: numpy>=1.20 in /usr/local/lib/python3.10/dist-packages (from matplotlib) (1.25.2)\n",
            "Requirement already satisfied: packaging>=20.0 in /usr/local/lib/python3.10/dist-packages (from matplotlib) (24.0)\n",
            "Requirement already satisfied: pillow>=6.2.0 in /usr/local/lib/python3.10/dist-packages (from matplotlib) (9.4.0)\n",
            "Requirement already satisfied: pyparsing>=2.3.1 in /usr/local/lib/python3.10/dist-packages (from matplotlib) (3.1.2)\n",
            "Requirement already satisfied: python-dateutil>=2.7 in /usr/local/lib/python3.10/dist-packages (from matplotlib) (2.8.2)\n",
            "Requirement already satisfied: six>=1.5 in /usr/local/lib/python3.10/dist-packages (from python-dateutil>=2.7->matplotlib) (1.16.0)\n",
            "Installing collected packages: deap\n",
            "Successfully installed deap-1.4.1\n"
          ]
        }
      ]
    },
    {
      "cell_type": "markdown",
      "source": [
        "Step 1: Import Required Libraries\n",
        "\n",
        "This step imports necessary libraries for random number generation, numerical computations, plotting, and the DEAP library for genetic algorithm implementation."
      ],
      "metadata": {
        "id": "llageUh__GlN"
      }
    },
    {
      "cell_type": "code",
      "source": [
        "import random\n",
        "import numpy as np\n",
        "import matplotlib.pyplot as plt\n",
        "from deap import base, creator, tools, algorithms"
      ],
      "metadata": {
        "id": "SgrIdV1u_JKM"
      },
      "execution_count": null,
      "outputs": []
    },
    {
      "cell_type": "markdown",
      "source": [
        "Step 2: Define Problem Parameters\n",
        "\n",
        "Define the number of locations to visit, randomly generate coordinates for these locations, define the depot's coordinates, and specify the number of available vehicles."
      ],
      "metadata": {
        "id": "Dpqnp-5K_UUR"
      }
    },
    {
      "cell_type": "code",
      "source": [
        "num_locations = 20\n",
        "locations = [(random.randint(0, 100), random.randint(0, 100)) for _ in range(num_locations)]\n",
        "depot = (50, 50)\n",
        "num_vehicles = 3\n"
      ],
      "metadata": {
        "id": "jmbaRNAL_RhN"
      },
      "execution_count": null,
      "outputs": []
    },
    {
      "cell_type": "markdown",
      "source": [
        "Step 3: Genetic Algorithm Setup\n",
        "\n",
        "Define a fitness function to minimize (distance and balance penalty), create an individual structure and register functions for creating individuals and populations."
      ],
      "metadata": {
        "id": "kDkgmexR_Ymu"
      }
    },
    {
      "cell_type": "code",
      "source": [
        "# Genetic Algorithm Setup\n",
        "creator.create(\"FitnessMin\", base.Fitness, weights=(-1.0, -1.0))\n",
        "creator.create(\"Individual\", list, fitness=creator.FitnessMin)\n",
        "\n",
        "toolbox = base.Toolbox()\n",
        "toolbox.register(\"indices\", random.sample, range(num_locations), num_locations)\n",
        "toolbox.register(\"individual\", tools.initIterate, creator.Individual, toolbox.indices)\n",
        "toolbox.register(\"population\", tools.initRepeat, list, toolbox.individual)\n"
      ],
      "metadata": {
        "id": "6B6QyV87_fwa"
      },
      "execution_count": null,
      "outputs": []
    },
    {
      "cell_type": "markdown",
      "source": [
        "Step 4: Define the Fitness Function\n",
        "\n",
        "This function evaluates an individual's fitness by calculating the total distance traveled by vehicles and a penalty for imbalance among their travel distances."
      ],
      "metadata": {
        "id": "fNvekhlD_hyF"
      }
    },
    {
      "cell_type": "code",
      "source": [
        "# Fitness Function\n",
        "def evalVRP(individual):\n",
        "    total_distance = 0\n",
        "    distances = []  # Track distance traveled by each vehicle for balance calculation\n",
        "    # Split the list of locations among vehicles, ensuring each starts and ends at the depot\n",
        "    for i in range(num_vehicles):\n",
        "        vehicle_route = [depot] + [locations[individual[j]] for j in range(i, len(individual), num_vehicles)] + [depot]\n",
        "        # Calculate total distance traveled by this vehicle\n",
        "        vehicle_distance = sum(np.linalg.norm(np.array(vehicle_route[k+1]) - np.array(vehicle_route[k])) for k in range(len(vehicle_route)-1))\n",
        "        total_distance += vehicle_distance\n",
        "        distances.append(vehicle_distance)\n",
        "    balance_penalty = np.std(distances)  # Use standard deviation of distances as a penalty for imbalance among vehicles\n",
        "    return total_distance, balance_penalty"
      ],
      "metadata": {
        "id": "CnmIw5U8_mNW"
      },
      "execution_count": null,
      "outputs": []
    },
    {
      "cell_type": "markdown",
      "source": [
        "Step 5: Register Genetic Operators\n",
        "\n",
        "Register functions for evaluation, crossover (permutation-based representation), mutation, and selection.\n"
      ],
      "metadata": {
        "id": "aDb-VWo6_qef"
      }
    },
    {
      "cell_type": "code",
      "source": [
        "toolbox.register(\"evaluate\", evalVRP)  # Register the evaluation function\n",
        "toolbox.register(\"mate\", tools.cxPartialyMatched)  # Register the crossover function suitable for permutation-based representation\n",
        "toolbox.register(\"mutate\", tools.mutShuffleIndexes, indpb=0.05)  # Register the mutation function to shuffle indices with a 5% chance per index\n",
        "toolbox.register(\"select\", tools.selTournament, tournsize=3)  # Register the selection function using tournament selection\n"
      ],
      "metadata": {
        "id": "BuNFtRr2_uTU"
      },
      "execution_count": null,
      "outputs": []
    },
    {
      "cell_type": "markdown",
      "source": [
        "Step 6: Plotting Function\n",
        "\n",
        "Define a function to plot the routes of vehicles and locations.\n"
      ],
      "metadata": {
        "id": "WhPktGU-_wLf"
      }
    },
    {
      "cell_type": "code",
      "source": [
        "# Plotting Function\n",
        "def plot_routes(individual, title=\"Routes\"):\n",
        "    plt.figure()\n",
        "    # Plot locations as blue dots and the depot as a red square\n",
        "    for (x, y) in locations:\n",
        "        plt.plot(x, y, 'bo')\n",
        "    plt.plot(depot[0], depot[1], 'rs')\n",
        "\n",
        "    # Draw routes for each vehicle\n",
        "    for i in range(num_vehicles):\n",
        "        vehicle_route = [depot] + [locations[individual[j]] for j in range(i, len(individual), num_vehicles)] + [depot]\n",
        "        plt.plot(*zip(*vehicle_route), '-')\n",
        "\n",
        "    plt.title(title)\n",
        "    plt.xlabel('X Coordinate')\n",
        "    plt.ylabel('Y Coordinate')\n",
        "    plt.show()"
      ],
      "metadata": {
        "id": "_2qY1bXK_zk-"
      },
      "execution_count": null,
      "outputs": []
    },
    {
      "cell_type": "markdown",
      "source": [
        "Step 7: Running the Genetic Algorithm\n",
        "\n",
        "Define the main function to execute the genetic algorithm. It initializes the population, sets up statistics tracking, runs the algorithm (eaSimple), and plots the best route found."
      ],
      "metadata": {
        "id": "VAh8JJLE_9x3"
      }
    },
    {
      "cell_type": "code",
      "source": [
        "# Running the Genetic Algorithm\n",
        "def main():\n",
        "    random.seed(42)  # Seed for reproducibility\n",
        "    pop = toolbox.population(n=300)  # Generate initial population\n",
        "    hof = tools.HallOfFame(1)  # Hall of Fame to store the best individual\n",
        "\n",
        "    # Setup statistics to track\n",
        "    stats = tools.Statistics(lambda ind: ind.fitness.values)\n",
        "    stats.register(\"avg\", np.mean)\n",
        "    stats.register(\"min\", np.min)\n",
        "\n",
        "    # Run the genetic algorithm\n",
        "    algorithms.eaSimple(pop, toolbox, 0.7, 0.2, 300, stats=stats, halloffame=hof)\n",
        "\n",
        "    # Plot the best route found\n",
        "    plot_routes(hof[0], \"Optimal Route\")\n",
        "    return pop, stats, hof\n",
        "\n",
        "if __name__ == \"__main__\":\n",
        "    main()\n"
      ],
      "metadata": {
        "colab": {
          "base_uri": "https://localhost:8080/"
        },
        "id": "lEqnThzWACJE",
        "outputId": "c0b38d92-a59d-4e94-ee6d-ceb67f4c4fef"
      },
      "execution_count": null,
      "outputs": [
        {
          "output_type": "stream",
          "name": "stdout",
          "text": [
            "gen\tnevals\tavg    \tmin    \n",
            "0  \t300   \t613.184\t4.41432\n",
            "1  \t213   \t589.856\t8.69226\n",
            "2  \t243   \t581.261\t4.14386\n",
            "3  \t232   \t568.731\t5.47524\n",
            "4  \t233   \t565.47 \t5.58931\n",
            "5  \t218   \t549.813\t2.04624\n",
            "6  \t213   \t538.992\t3.0765 \n",
            "7  \t233   \t528.333\t3.04321\n",
            "8  \t219   \t518.062\t2.83114\n",
            "9  \t209   \t502.088\t1.57371\n",
            "10 \t224   \t503.988\t1.57371\n",
            "11 \t230   \t496.086\t3.8587 \n",
            "12 \t230   \t495.081\t6.22903\n",
            "13 \t217   \t475.39 \t4.57231\n",
            "14 \t231   \t470.801\t4.57231\n",
            "15 \t250   \t452.776\t3.59099\n",
            "16 \t238   \t443.701\t1.04585\n",
            "17 \t236   \t430.534\t1.04585\n",
            "18 \t225   \t424.073\t1.04585\n",
            "19 \t225   \t413.446\t1.04585\n",
            "20 \t209   \t405.311\t2.84925\n",
            "21 \t232   \t399.52 \t2.84925\n",
            "22 \t237   \t394.073\t0.445415\n",
            "23 \t217   \t393.535\t0.393434\n",
            "24 \t227   \t382.901\t1.42032 \n",
            "25 \t246   \t379.751\t1.75118 \n",
            "26 \t233   \t365.239\t1.59835 \n",
            "27 \t219   \t354.183\t1.08568 \n",
            "28 \t229   \t348.563\t1.25122 \n",
            "29 \t223   \t342.067\t2.77624 \n",
            "30 \t238   \t340.218\t1.73293 \n",
            "31 \t225   \t337.377\t2.78612 \n",
            "32 \t221   \t338.865\t3.43374 \n",
            "33 \t243   \t329.335\t2.88787 \n",
            "34 \t232   \t325.517\t2.88787 \n",
            "35 \t244   \t323.276\t7.28849 \n",
            "36 \t233   \t326.352\t7.25617 \n",
            "37 \t217   \t319.488\t7.59094 \n",
            "38 \t239   \t324.401\t7.25617 \n",
            "39 \t229   \t321.49 \t1.79821 \n",
            "40 \t214   \t322.549\t1.79821 \n",
            "41 \t241   \t321.847\t5.62527 \n",
            "42 \t249   \t323.139\t1.45695 \n",
            "43 \t226   \t322.487\t2.22566 \n",
            "44 \t241   \t315.142\t8.2673  \n",
            "45 \t232   \t319.753\t6.43114 \n",
            "46 \t236   \t320.542\t6.71815 \n",
            "47 \t228   \t316.347\t5.65833 \n",
            "48 \t232   \t317.194\t0.833244\n",
            "49 \t236   \t316.964\t6.15755 \n",
            "50 \t220   \t313.456\t6.8795  \n",
            "51 \t219   \t316.639\t5.77403 \n",
            "52 \t229   \t310.097\t6.11674 \n",
            "53 \t247   \t309.227\t5.53043 \n",
            "54 \t225   \t310.767\t8.40853 \n",
            "55 \t220   \t310.021\t4.39442 \n",
            "56 \t223   \t309.927\t5.44307 \n",
            "57 \t230   \t311.819\t4.18848 \n",
            "58 \t215   \t310.92 \t5.4425  \n",
            "59 \t211   \t309.827\t6.02424 \n",
            "60 \t232   \t311.346\t10.0046 \n",
            "61 \t237   \t310.323\t3.66337 \n",
            "62 \t223   \t302.724\t8.73887 \n",
            "63 \t223   \t314.172\t5.37245 \n",
            "64 \t237   \t308.59 \t3.66337 \n",
            "65 \t215   \t305.5  \t2.91011 \n",
            "66 \t240   \t313.327\t2.01886 \n",
            "67 \t210   \t309.773\t2.58938 \n",
            "68 \t229   \t305.617\t2.58938 \n",
            "69 \t225   \t308.194\t1.17428 \n",
            "70 \t230   \t305.053\t5.45938 \n",
            "71 \t226   \t308.676\t2.65325 \n",
            "72 \t248   \t305.626\t2.29578 \n",
            "73 \t220   \t300.888\t5.29171 \n",
            "74 \t214   \t296.619\t1.40818 \n",
            "75 \t224   \t295.431\t7.17597 \n",
            "76 \t224   \t302.254\t11.4541 \n",
            "77 \t219   \t294.366\t6.3438  \n",
            "78 \t230   \t296.531\t5.21348 \n",
            "79 \t241   \t299.813\t5.09341 \n",
            "80 \t242   \t299.523\t2.9827  \n",
            "81 \t236   \t300.519\t11.9088 \n",
            "82 \t212   \t294.986\t2.65325 \n",
            "83 \t216   \t300.738\t5.10876 \n",
            "84 \t235   \t295.918\t8.5525  \n",
            "85 \t209   \t300.014\t0.444068\n",
            "86 \t232   \t297.805\t0.444068\n",
            "87 \t224   \t299.793\t0.444068\n",
            "88 \t257   \t301.915\t2.9827  \n",
            "89 \t215   \t297.859\t11.6366 \n",
            "90 \t224   \t298.724\t5.5809  \n",
            "91 \t223   \t298.195\t6.86752 \n",
            "92 \t229   \t293.81 \t7.58282 \n",
            "93 \t226   \t297.031\t5.69138 \n",
            "94 \t235   \t296.48 \t10.0728 \n",
            "95 \t231   \t297.619\t10.4555 \n",
            "96 \t226   \t294.859\t5.32043 \n",
            "97 \t229   \t294.245\t9.87643 \n",
            "98 \t217   \t301.346\t5.27479 \n",
            "99 \t237   \t301.425\t1.08478 \n",
            "100\t234   \t296.832\t5.65584 \n",
            "101\t213   \t297.413\t8.76111 \n",
            "102\t211   \t300.999\t10.4555 \n",
            "103\t225   \t295.172\t5.77108 \n",
            "104\t224   \t295.103\t12.1716 \n",
            "105\t205   \t293.35 \t6.93767 \n",
            "106\t200   \t295.12 \t12.2692 \n",
            "107\t239   \t295.422\t6.97445 \n",
            "108\t219   \t293.197\t9.55964 \n",
            "109\t227   \t293.413\t8.66921 \n",
            "110\t226   \t293.847\t8.76111 \n",
            "111\t250   \t297.324\t5.65584 \n",
            "112\t219   \t297.813\t9.89074 \n",
            "113\t239   \t293.105\t9.87643 \n",
            "114\t231   \t295.056\t10.808  \n",
            "115\t223   \t296.364\t5.77108 \n",
            "116\t251   \t298.056\t9.94701 \n",
            "117\t233   \t293.592\t10.4555 \n",
            "118\t217   \t296.243\t5.77108 \n",
            "119\t220   \t290.137\t10.6816 \n",
            "120\t221   \t296.075\t10.6816 \n",
            "121\t224   \t303.559\t7.83435 \n",
            "122\t232   \t291.643\t10.4183 \n",
            "123\t232   \t299.84 \t5.65584 \n",
            "124\t220   \t296.133\t7.06867 \n",
            "125\t231   \t294.731\t7.91969 \n",
            "126\t236   \t299.797\t12.3269 \n",
            "127\t222   \t296.655\t3.2726  \n",
            "128\t230   \t295.14 \t5.77108 \n",
            "129\t243   \t292.696\t5.65584 \n",
            "130\t224   \t292.405\t8.83679 \n",
            "131\t218   \t297.334\t5.77108 \n",
            "132\t228   \t297.786\t12.1637 \n",
            "133\t235   \t294.565\t11.0201 \n",
            "134\t233   \t298.989\t6.97445 \n",
            "135\t207   \t295.958\t11.0495 \n",
            "136\t227   \t297.704\t8.76111 \n",
            "137\t235   \t297.024\t7.05464 \n",
            "138\t217   \t298.144\t5.5809  \n",
            "139\t234   \t294.893\t5.5809  \n",
            "140\t222   \t294.564\t6.1282  \n",
            "141\t222   \t294.858\t5.77108 \n",
            "142\t208   \t296.321\t4.6473  \n",
            "143\t240   \t300.613\t12.1716 \n",
            "144\t223   \t295.612\t7.26065 \n",
            "145\t232   \t295.886\t5.65584 \n",
            "146\t236   \t299.979\t7.36413 \n",
            "147\t232   \t297.078\t5.5809  \n",
            "148\t235   \t294.407\t5.5809  \n",
            "149\t218   \t294.666\t9.87643 \n",
            "150\t229   \t294.615\t10.808  \n",
            "151\t235   \t296.647\t5.65584 \n",
            "152\t220   \t294.721\t5.5809  \n",
            "153\t249   \t297.877\t6.97445 \n",
            "154\t230   \t297.289\t6.97445 \n",
            "155\t215   \t293.029\t6.97445 \n",
            "156\t233   \t294.516\t9.94701 \n",
            "157\t220   \t296.275\t5.5809  \n",
            "158\t210   \t293.2  \t5.69894 \n",
            "159\t227   \t296.518\t10.4555 \n",
            "160\t225   \t296.69 \t9.93702 \n",
            "161\t231   \t298.47 \t3.62278 \n",
            "162\t223   \t295.222\t5.65584 \n",
            "163\t221   \t294.213\t5.77108 \n",
            "164\t219   \t293.619\t5.77108 \n",
            "165\t240   \t298.383\t9.87643 \n",
            "166\t228   \t296.208\t9.87643 \n",
            "167\t220   \t302.439\t10.6816 \n",
            "168\t228   \t297.091\t8.76111 \n",
            "169\t227   \t293.29 \t10.0728 \n",
            "170\t219   \t294.63 \t4.71156 \n",
            "171\t231   \t297.303\t12.2408 \n",
            "172\t214   \t292.84 \t12.1637 \n",
            "173\t226   \t299.947\t4.34363 \n",
            "174\t231   \t299.769\t2.25537 \n",
            "175\t224   \t296.338\t12.0697 \n",
            "176\t235   \t298.592\t1.86134 \n",
            "177\t233   \t298.024\t10.6816 \n",
            "178\t225   \t295.856\t10.0728 \n",
            "179\t203   \t297.09 \t8.76111 \n",
            "180\t237   \t293.848\t5.5809  \n",
            "181\t221   \t298.728\t10.0728 \n",
            "182\t220   \t297.404\t5.5809  \n",
            "183\t239   \t297.449\t12.0697 \n",
            "184\t215   \t296.234\t8.98824 \n",
            "185\t230   \t296.39 \t5.04325 \n",
            "186\t225   \t293.291\t10.0728 \n",
            "187\t223   \t296.821\t6.29414 \n",
            "188\t234   \t293.632\t5.32863 \n",
            "189\t205   \t295.1  \t7.19978 \n",
            "190\t215   \t295.438\t5.32291 \n",
            "191\t227   \t295.565\t5.85408 \n",
            "192\t214   \t295.961\t3.44207 \n",
            "193\t219   \t296.172\t4.41566 \n",
            "194\t222   \t293.806\t10.9308 \n",
            "195\t220   \t296.639\t9.37095 \n",
            "196\t228   \t295.169\t12.9229 \n",
            "197\t195   \t294.558\t3.30182 \n",
            "198\t238   \t293.818\t3.50349 \n",
            "199\t218   \t292.543\t6.03982 \n",
            "200\t216   \t295.371\t5.77108 \n",
            "201\t238   \t295.736\t9.94701 \n",
            "202\t232   \t295.427\t10.4484 \n",
            "203\t238   \t297.42 \t9.94701 \n",
            "204\t227   \t292.5  \t9.38383 \n",
            "205\t233   \t295.882\t6.97445 \n",
            "206\t226   \t296.25 \t5.5809  \n",
            "207\t228   \t298.096\t10.9004 \n",
            "208\t231   \t294.881\t9.87643 \n",
            "209\t226   \t299.974\t5.5809  \n",
            "210\t223   \t298.668\t5.65584 \n",
            "211\t214   \t293.812\t5.2099  \n",
            "212\t215   \t296.11 \t12.2692 \n",
            "213\t224   \t295.24 \t5.65584 \n",
            "214\t226   \t297.723\t5.63678 \n",
            "215\t237   \t296.586\t5.00318 \n",
            "216\t212   \t294.568\t10.4555 \n",
            "217\t218   \t291.229\t9.12342 \n",
            "218\t231   \t296.465\t0.444068\n",
            "219\t225   \t301.48 \t3.09848 \n",
            "220\t228   \t300.968\t6.60465 \n",
            "221\t237   \t299.968\t12.9229 \n",
            "222\t225   \t297.158\t12.9229 \n",
            "223\t219   \t293.734\t5.65584 \n",
            "224\t218   \t294.147\t5.5809  \n",
            "225\t234   \t295.537\t12.9229 \n",
            "226\t230   \t297.554\t1.89579 \n",
            "227\t235   \t296.055\t8.76111 \n",
            "228\t227   \t301.056\t11.9671 \n",
            "229\t234   \t300.393\t11.9671 \n",
            "230\t234   \t294.175\t10.0728 \n",
            "231\t237   \t303.19 \t10.808  \n",
            "232\t229   \t295.169\t4.71156 \n",
            "233\t231   \t296.371\t6.69246 \n",
            "234\t219   \t296.677\t6.97445 \n",
            "235\t216   \t295.493\t5.77108 \n",
            "236\t229   \t295.978\t8.23128 \n",
            "237\t239   \t297.69 \t2.91216 \n",
            "238\t228   \t295.805\t10.9004 \n",
            "239\t238   \t296.791\t9.89885 \n",
            "240\t225   \t303.415\t10.6816 \n",
            "241\t219   \t295.989\t5.77108 \n",
            "242\t231   \t297.204\t8.76111 \n",
            "243\t218   \t293.362\t6.26668 \n",
            "244\t227   \t294.934\t9.94701 \n",
            "245\t208   \t295.162\t6.97445 \n",
            "246\t210   \t298.233\t3.0056  \n",
            "247\t217   \t293.014\t5.77108 \n",
            "248\t239   \t294.575\t5.65584 \n",
            "249\t227   \t299.822\t5.77108 \n",
            "250\t223   \t291.683\t6.29414 \n",
            "251\t239   \t294.202\t2.56069 \n",
            "252\t232   \t297.847\t6.97445 \n",
            "253\t223   \t293.625\t6.97445 \n",
            "254\t223   \t293.106\t10.0728 \n",
            "255\t215   \t296.466\t5.65584 \n",
            "256\t244   \t296.72 \t6.97445 \n",
            "257\t227   \t299.112\t9.74257 \n",
            "258\t234   \t297.66 \t5.96324 \n",
            "259\t228   \t296.199\t5.65584 \n",
            "260\t218   \t300.012\t5.5809  \n",
            "261\t234   \t296.865\t12.9229 \n",
            "262\t223   \t295.721\t12.6025 \n",
            "263\t234   \t298.084\t5.65584 \n",
            "264\t240   \t296.711\t10.808  \n",
            "265\t243   \t294.187\t5.65584 \n",
            "266\t232   \t298.884\t2.30788 \n",
            "267\t230   \t296.413\t5.5809  \n",
            "268\t225   \t296.194\t5.65584 \n",
            "269\t245   \t293.174\t12.0697 \n",
            "270\t234   \t297.184\t9.78045 \n",
            "271\t221   \t293.93 \t7.29881 \n",
            "272\t231   \t297.145\t11.1927 \n",
            "273\t242   \t295.779\t9.87643 \n",
            "274\t228   \t295.715\t10.0728 \n",
            "275\t233   \t294.969\t5.5809  \n",
            "276\t214   \t293.128\t10.6816 \n",
            "277\t232   \t300.676\t10.9004 \n",
            "278\t232   \t301.223\t5.5809  \n",
            "279\t227   \t299.431\t3.10606 \n",
            "280\t220   \t295.374\t8.97119 \n",
            "281\t216   \t297.197\t10.808  \n",
            "282\t230   \t292.696\t4.62635 \n",
            "283\t240   \t294.927\t1.57941 \n",
            "284\t235   \t293.015\t5.77108 \n",
            "285\t233   \t294.121\t10.808  \n",
            "286\t213   \t296.953\t11.7902 \n",
            "287\t248   \t298.318\t5.65584 \n",
            "288\t231   \t297.695\t8.76111 \n",
            "289\t216   \t294.782\t6.67897 \n",
            "290\t228   \t297.818\t6.97445 \n",
            "291\t231   \t296.037\t9.87643 \n",
            "292\t233   \t300.182\t10.808  \n",
            "293\t240   \t294.823\t5.69894 \n",
            "294\t225   \t298.835\t10.1133 \n",
            "295\t242   \t295.367\t4.6473  \n",
            "296\t244   \t297.884\t5.5809  \n",
            "297\t228   \t297.661\t5.5809  \n",
            "298\t212   \t295.386\t9.60546 \n",
            "299\t219   \t295.59 \t10.4555 \n",
            "300\t236   \t297.659\t5.77108 \n"
          ]
        },
        {
          "output_type": "display_data",
          "data": {
            "text/plain": [
              "<Figure size 640x480 with 1 Axes>"
            ],
            "image/png": "[encoded data removed]"
          },
          "metadata": {}
        }
      ]
    }
  ]
}